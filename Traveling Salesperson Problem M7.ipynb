{
 "cells": [
  {
   "cell_type": "markdown",
   "id": "b1de6aed",
   "metadata": {
    "deletable": false,
    "editable": false
   },
   "source": [
    "<font color='red' size='6'>REMINDER</font>\n",
    "\n",
    "# Fill in any place that says `YOUR CODE HERE`.\n",
    "- You should remove the line that says `raise NotImplementedError()`. If you do not, your code will (unsurprisingly) throw a run-time error and cause everything to fail.\n",
    "- Do **NOT** write your answer anywhere else other than where it says `YOUR CODE HERE`. Simply write your code directly below this comment in the **same code cell**.\n",
    "\n",
    "# Make sure everything runs as expected.\n",
    "- Go to the menubar, select *Kernel* > *Restart & Run All*\n",
    "\n",
    "# Do <ins>NOT</ins> change the title (i.e., file name) of this notebook.\n",
    "\n",
    "# Do <ins>NOT</ins> delete any of the cells in this notebook.\n",
    "\n",
    "# Make sure you save your work\n",
    "- Go to the menubar, select *File* > *Save and Checkpoint*"
   ]
  },
  {
   "cell_type": "code",
   "execution_count": 1,
   "id": "b28640db",
   "metadata": {
    "deletable": false,
    "editable": false
   },
   "outputs": [],
   "source": [
    "# Run this code cell\n",
    "from nose.tools import assert_equal, assert_in, assert_is_instance\n",
    "from nose.tools import assert_almost_equal, assert_not_equal, assert_not_in"
   ]
  },
  {
   "cell_type": "markdown",
   "id": "65460076",
   "metadata": {
    "deletable": false,
    "editable": false
   },
   "source": [
    "# Setting\n",
    "\n",
    "Pallet Movers utilizes a hub-and-spoke system similar to many LTL carriers. Their implementation requires a truck to leave a hub and visit all of its spokes to pick up freight and return back to the hub several times per week. They have asked you to provide the best route for a truck to leave the Charlotte hub, visit all four of its spokes, and return to Charlotte with the freight it picks up. They want you to use the total distance traveled as the metric to determine which route is best. \n",
    "\n",
    "# Traveling Salesman Problem (TSP)\n",
    "\n",
    "This type of problem is called the traveling salesman problem (TSP) and is a classical operations research problem. The problem is simple to state but can be very difficult to solve to optimality, especially when the number of cities (e.g., spokes) is large. For $n$ cities, there are $(n-1)!$ possible tours. When $n$ is small, you could solve the problem with the brute-force approach of calculating the total distance traveled for all possible tours.\n",
    "\n",
    "You are instead going to try to solve the problem using linear programming.\n",
    "\n"
   ]
  },
  {
   "cell_type": "markdown",
   "id": "e2def792",
   "metadata": {
    "deletable": false,
    "editable": false
   },
   "source": [
    "# An Incomplete Formulation\n",
    "\n",
    "Here is a first attempt at a formulation for the TSP. We will soon see why it is \"incomplete\". \n",
    "\n",
    "\n",
    "$$\n",
    "\\begin{array}{lrcccl}\n",
    "\\max & \\sum\\limits_{i=1}^{n} \\sum\\limits_{j=1}^{n} d_{ij}x_{ij} & & & \\\\\n",
    "\\textrm{subject to} & \\sum\\limits_{j\\neq i}^{n}x_{ij} & = & 1 & \\forall \\textrm{   } i & \\textrm{ leave each city once}\\\\\n",
    " & \\sum\\limits_{i\\neq j}^{n} x_{ij} & = & 1 & \\forall \\textrm {   } j & \\textrm{ enter each city once}\\\\\n",
    "\\textrm{where} &&&&& \\\\\n",
    "\\end{array} \n",
    "$$\n",
    "\n",
    "\n",
    "$$\n",
    "x_{ij} = \n",
    "    \\left\\{\n",
    "  \\begin{array}{@{}ll@{}}\n",
    "    1, & \\text{if travel from city } i \\text{ to city } j \\\\\n",
    "    0, & \\text{otherwise}\n",
    "  \\end{array}\\right.\n",
    "$$\n",
    "\n",
    "$$\n",
    "d_{ij} = \\text{the distance between city } i \\text{ and city } j\n",
    "$$\n",
    "\n",
    "What is missing from this formulation? Nothing says that you cannot have \"subtours\". For example, the solution with two subtours of: (1) Charlotte to Columbia to Fayetteville to Charlotte and (2) Greensboro to Spartanburg to Greensboro is feasible by these constraints. \n",
    "\n",
    "Your first task is to solve this problem using PuLP with the given formulation and **hope** we do not encounter subtours."
   ]
  },
  {
   "cell_type": "code",
   "execution_count": 2,
   "id": "6d0f77a8",
   "metadata": {
    "deletable": false,
    "editable": false
   },
   "outputs": [],
   "source": [
    "# import pulp as pl to solve the problem\n",
    "import pulp as pl"
   ]
  },
  {
   "cell_type": "markdown",
   "id": "0a855aee",
   "metadata": {
    "deletable": false,
    "editable": false
   },
   "source": [
    "# 1. Read in Distance Data\n",
    "\n",
    "There is a file named `distances.csv` in the folder `data` that contains the distances between each of the five cities (the hub and the four spokes) for the Charlotte Hub. Read the data into a `DataFrame` variable named `distances`, making the first column of the file the index."
   ]
  },
  {
   "cell_type": "code",
   "execution_count": 3,
   "id": "186abf88",
   "metadata": {
    "deletable": false
   },
   "outputs": [],
   "source": [
    "# YOUR CODE HERE\n",
    "import pandas as pd\n",
    "\n",
    "# read in the data\n",
    "distances = pd.read_csv('./data/distances.csv', index_col=0)"
   ]
  },
  {
   "cell_type": "code",
   "execution_count": 4,
   "id": "193a6847",
   "metadata": {
    "deletable": false,
    "editable": false
   },
   "outputs": [],
   "source": [
    "# This is a test cell\n",
    "# If **NO** message is printed, it means that the tests passed\n",
    "# One basic test to see if your code works\n",
    "assert_equal(distances.shape[0], 5, msg='Your DataFrame does not have the correct number of rows')\n",
    "assert_equal(distances.shape[1], 5, msg='Your DataFrame does not have the correct number of columns')\n",
    "assert_equal(type(distances['Charlotte']), pd.Series, msg='Did you use the first column as your index?')"
   ]
  },
  {
   "cell_type": "markdown",
   "id": "30623ccc",
   "metadata": {
    "deletable": false,
    "editable": false
   },
   "source": [
    "# Data Structures\n",
    "The next few tasks have you put the data into data structures that are easier to work with when using PuLP.\n",
    "\n",
    "# 2. Create Distance List\n",
    "\n",
    "It is easier for PuLP to use a list of distances rather than a `DataFrame`. Create a two-dimensional list from `distances` and store the results in a variable named `distance_list`. "
   ]
  },
  {
   "cell_type": "code",
   "execution_count": 5,
   "id": "d4e21f53",
   "metadata": {
    "deletable": false
   },
   "outputs": [],
   "source": [
    "# YOUR CODE HERE\n",
    "distance_list = [list(distances.iloc[i]) for i in range(len(distances))]"
   ]
  },
  {
   "cell_type": "code",
   "execution_count": 6,
   "id": "06673138-70a1-45f5-ad82-40042f676b84",
   "metadata": {
    "deletable": false,
    "editable": false
   },
   "outputs": [],
   "source": [
    "# This is a test cell\n",
    "# If **NO** message is printed, it means that the tests passed\n",
    "# One basic test to see if your code works\n",
    "assert_in('distance_list', dir(), msg='You did not name the variable `distance_list` as instructed')"
   ]
  },
  {
   "cell_type": "code",
   "execution_count": 7,
   "id": "6aae9723-f61c-4fd3-8399-a1dfb7e7da2f",
   "metadata": {
    "deletable": false,
    "editable": false
   },
   "outputs": [],
   "source": [
    "# This is a test cell\n",
    "# If **NO** message is printed, it means that the tests passed\n",
    "# One basic test to see if your code works\n",
    "assert_equal(type(distance_list), list, msg='Your variable distance_list is not a list')"
   ]
  },
  {
   "cell_type": "markdown",
   "id": "1f60d5cb",
   "metadata": {
    "deletable": false,
    "editable": false
   },
   "source": [
    "<hr>"
   ]
  },
  {
   "cell_type": "markdown",
   "id": "310c6edf",
   "metadata": {
    "deletable": false,
    "editable": false
   },
   "source": [
    "# 3. Create City Lists\n",
    "\n",
    "1. Create a list named `from_cities` that gets all of the cities from the `distances` index.\n",
    "2. Create a list named `to_cities` that gets all of the cities from the `distances` columns."
   ]
  },
  {
   "cell_type": "code",
   "execution_count": 8,
   "id": "ecf26bc6",
   "metadata": {
    "deletable": false
   },
   "outputs": [],
   "source": [
    "# YOUR CODE HERE\n",
    "from_cities = list(distances.index)\n",
    "to_cities = list(distances.columns)"
   ]
  },
  {
   "cell_type": "code",
   "execution_count": 9,
   "id": "d66214a7-3005-4e21-9e50-c9aedf75e07a",
   "metadata": {
    "deletable": false,
    "editable": false
   },
   "outputs": [],
   "source": [
    "# This is a test cell\n",
    "# If **NO** message is printed, it means that the tests passed\n",
    "# One basic test to see if your code works\n",
    "assert_equal(type(from_cities), list, msg='Your variable from_cities is not a list')"
   ]
  },
  {
   "cell_type": "code",
   "execution_count": 10,
   "id": "b5ea68f0-b34a-454d-8168-58aa15661868",
   "metadata": {
    "deletable": false,
    "editable": false
   },
   "outputs": [],
   "source": [
    "# This is a test cell\n",
    "# If **NO** message is printed, it means that the tests passed\n",
    "# One basic test to see if your code works\n",
    "assert_equal(type(to_cities), list, msg='Your variable to_cities is not a list')"
   ]
  },
  {
   "cell_type": "markdown",
   "id": "6cff1e63",
   "metadata": {
    "deletable": false,
    "editable": false
   },
   "source": [
    "<hr>"
   ]
  },
  {
   "cell_type": "code",
   "execution_count": 11,
   "id": "4e28c128",
   "metadata": {
    "deletable": false,
    "editable": false
   },
   "outputs": [
    {
     "data": {
      "text/plain": [
       "defaultdict(<function pulp.utilities.__makeDict.<locals>.<lambda>()>,\n",
       "            {'Charlotte': defaultdict(<function pulp.utilities.__makeDict.<locals>.<lambda>()>,\n",
       "                         {'Charlotte': 999,\n",
       "                          'Greensboro': 93,\n",
       "                          'Fayetteville': 138,\n",
       "                          'Columbia': 93,\n",
       "                          'Spartanburg': 75}),\n",
       "             'Greensboro': defaultdict(<function pulp.utilities.__makeDict.<locals>.<lambda>()>,\n",
       "                         {'Charlotte': 93,\n",
       "                          'Greensboro': 999,\n",
       "                          'Fayetteville': 95,\n",
       "                          'Columbia': 183,\n",
       "                          'Spartanburg': 161}),\n",
       "             'Fayetteville': defaultdict(<function pulp.utilities.__makeDict.<locals>.<lambda>()>,\n",
       "                         {'Charlotte': 138,\n",
       "                          'Greensboro': 95,\n",
       "                          'Fayetteville': 999,\n",
       "                          'Columbia': 166,\n",
       "                          'Spartanburg': 254}),\n",
       "             'Columbia': defaultdict(<function pulp.utilities.__makeDict.<locals>.<lambda>()>,\n",
       "                         {'Charlotte': 93,\n",
       "                          'Greensboro': 183,\n",
       "                          'Fayetteville': 166,\n",
       "                          'Columbia': 999,\n",
       "                          'Spartanburg': 94}),\n",
       "             'Spartanburg': defaultdict(<function pulp.utilities.__makeDict.<locals>.<lambda>()>,\n",
       "                         {'Charlotte': 75,\n",
       "                          'Greensboro': 161,\n",
       "                          'Fayetteville': 254,\n",
       "                          'Columbia': 94,\n",
       "                          'Spartanburg': 999})})"
      ]
     },
     "execution_count": 11,
     "metadata": {},
     "output_type": "execute_result"
    }
   ],
   "source": [
    "# This will create a dictionary that PuLP understands to hold\n",
    "# the distances (miles) for each origin / destination pair\n",
    "the_distances = pl.makeDict([from_cities, to_cities], distance_list, 999)\n",
    "\n",
    "# Print it out to examine it\n",
    "the_distances"
   ]
  },
  {
   "cell_type": "code",
   "execution_count": 12,
   "id": "2d7c74cb",
   "metadata": {
    "deletable": false,
    "editable": false
   },
   "outputs": [
    {
     "data": {
      "text/plain": [
       "[('Charlotte', 'Charlotte'),\n",
       " ('Charlotte', 'Greensboro'),\n",
       " ('Charlotte', 'Fayetteville'),\n",
       " ('Charlotte', 'Columbia'),\n",
       " ('Charlotte', 'Spartanburg'),\n",
       " ('Greensboro', 'Charlotte'),\n",
       " ('Greensboro', 'Greensboro'),\n",
       " ('Greensboro', 'Fayetteville'),\n",
       " ('Greensboro', 'Columbia'),\n",
       " ('Greensboro', 'Spartanburg'),\n",
       " ('Fayetteville', 'Charlotte'),\n",
       " ('Fayetteville', 'Greensboro'),\n",
       " ('Fayetteville', 'Fayetteville'),\n",
       " ('Fayetteville', 'Columbia'),\n",
       " ('Fayetteville', 'Spartanburg'),\n",
       " ('Columbia', 'Charlotte'),\n",
       " ('Columbia', 'Greensboro'),\n",
       " ('Columbia', 'Fayetteville'),\n",
       " ('Columbia', 'Columbia'),\n",
       " ('Columbia', 'Spartanburg'),\n",
       " ('Spartanburg', 'Charlotte'),\n",
       " ('Spartanburg', 'Greensboro'),\n",
       " ('Spartanburg', 'Fayetteville'),\n",
       " ('Spartanburg', 'Columbia'),\n",
       " ('Spartanburg', 'Spartanburg')]"
      ]
     },
     "execution_count": 12,
     "metadata": {},
     "output_type": "execute_result"
    }
   ],
   "source": [
    "# This list comprehension statement creates tuples\n",
    "# containing (origin, destination) for all routes\n",
    "routes = [(i, j) for i in from_cities for j in to_cities]\n",
    "\n",
    "# print it out to examine it\n",
    "routes"
   ]
  },
  {
   "cell_type": "markdown",
   "id": "76ff127d",
   "metadata": {
    "deletable": false,
    "editable": false
   },
   "source": [
    "# 4. Create the Variables\n",
    "\n",
    "There is a function called `.dicts()` on the class `LpVariable` that will easily create the 25 variables needed for this problem. The syntax is:\n",
    "\n",
    "```python\n",
    "pl.LpVariable.dicts('prefix', (list1, list2), lower_bound, upper_bound)\n",
    "```\n",
    "\n",
    "where `prefix` is what you want you variable name to be at the beginning - you should use the string 'route'; the tuple `(list1, list2)` are essentially $i$ and $j$ in the formulation above; the `lower_bound` should be a 0; and the `upper_bound` should be `None`. \n",
    "\n",
    "Create the variables and store the results in a variable named `vars`."
   ]
  },
  {
   "cell_type": "code",
   "execution_count": 13,
   "id": "e791fa46",
   "metadata": {
    "deletable": false
   },
   "outputs": [],
   "source": [
    "# YOUR CODE HERE\n",
    "vars = pl.LpVariable.dicts('route', (from_cities, to_cities), 0, None)"
   ]
  },
  {
   "cell_type": "code",
   "execution_count": 14,
   "id": "15368910-448d-4f50-b391-4b8c1d1c71bc",
   "metadata": {
    "deletable": false,
    "editable": false
   },
   "outputs": [],
   "source": [
    "# This is a test cell\n",
    "# If **NO** message is printed, it means that the tests passed\n",
    "# One basic test to see if your code works\n",
    "assert_equal(type(vars), dict, msg='Your variable `vars` is not a dictionary')"
   ]
  },
  {
   "cell_type": "code",
   "execution_count": 15,
   "id": "2a08880f-2a7e-4ed7-bedd-8814c61ffa72",
   "metadata": {
    "deletable": false,
    "editable": false
   },
   "outputs": [],
   "source": [
    "# This is a test cell\n",
    "# If **NO** message is printed, it means that the tests passed\n",
    "# One basic test to see if your code works\n",
    "assert_equal(len(vars), 5, msg='Your vars dictionary does not have correct number of entries')"
   ]
  },
  {
   "cell_type": "markdown",
   "id": "335de84b",
   "metadata": {
    "deletable": false,
    "editable": false
   },
   "source": [
    "<hr>"
   ]
  },
  {
   "cell_type": "markdown",
   "id": "a065a129",
   "metadata": {
    "deletable": false,
    "editable": false
   },
   "source": [
    "# 5. Build the Model\n",
    "\n",
    "Create a variable named `model` that holds an instance of `LpProblem` that has the name \"CLT_Spoke_Route\" and is a minimization problem."
   ]
  },
  {
   "cell_type": "code",
   "execution_count": 16,
   "id": "fd1d0720",
   "metadata": {
    "deletable": false
   },
   "outputs": [],
   "source": [
    "# YOUR CODE HERE\n",
    "model = pl.LpProblem(name=\"CLT_Spoke_Route\", sense=pl.LpMinimize)"
   ]
  },
  {
   "cell_type": "code",
   "execution_count": 17,
   "id": "ffc24426-8c69-4b99-8f1a-7446520d386d",
   "metadata": {
    "deletable": false,
    "editable": false
   },
   "outputs": [],
   "source": [
    "# This is a test cell\n",
    "# If **NO** message is printed, it means that the tests passed\n",
    "# One basic test to see if your code works\n",
    "assert_in('model', dir(), msg='You did not name the variable `model` as instructed')"
   ]
  },
  {
   "cell_type": "markdown",
   "id": "ad4ede6c",
   "metadata": {
    "deletable": false,
    "editable": false
   },
   "source": [
    "<hr>"
   ]
  },
  {
   "cell_type": "markdown",
   "id": "f03a0c01",
   "metadata": {
    "deletable": false,
    "editable": false
   },
   "source": [
    "# 6. Add Objective Function\n",
    "\n",
    "The function `.lpSum()` calculates the sum of a list of linear expressions. Add the objective function to the `model` by sending in the appropriate list comprehension statement to `.lpSum()`."
   ]
  },
  {
   "cell_type": "code",
   "execution_count": 18,
   "id": "546c402c",
   "metadata": {
    "deletable": false
   },
   "outputs": [],
   "source": [
    "# The objective function is added to 'model' first\n",
    "# YOUR CODE HERE\n",
    "model += pl.lpSum(vars[i][j] * the_distances[i][j] for i in from_cities for j in to_cities)"
   ]
  },
  {
   "cell_type": "code",
   "execution_count": 19,
   "id": "a20e1c57-496f-40bf-8a69-ce61b72622e7",
   "metadata": {
    "deletable": false,
    "editable": false
   },
   "outputs": [],
   "source": [
    "# This is a test cell\n",
    "# If **NO** message is printed, it means that the tests passed\n",
    "# One basic test to see if your code works\n",
    "assert_equal(type(model.objective), pl.LpAffineExpression, msg='Your did not add the objective function correctly')"
   ]
  },
  {
   "cell_type": "markdown",
   "id": "be698c88",
   "metadata": {
    "deletable": false,
    "editable": false
   },
   "source": [
    "<hr>"
   ]
  },
  {
   "cell_type": "markdown",
   "id": "327f9ef8",
   "metadata": {
    "deletable": false,
    "editable": false
   },
   "source": [
    "# 7. Add the Constraints\n",
    "\n",
    "1. Loop through the variable `from_cities` and add a constraint that requires that you can only leave the city once. Name each constraint with an f-string \"Sum_of_Leaving_City_{i}\" where $i$ is the city being left. For example, if the leaving city is Charlotte, the name of the constraint should be \"Sum_of_Leaving_City_Charlotte\".\n",
    "2. Loop through the variable `to_cities` and add a constraint that requires that you can only enter the city once. Name each constraint with an f-string \"Sum_of_Entering_City_{j}\" where $j$ is the city being entered. For example, if the entering city is Spartanburg, the name of the constraint should be \"Sum_of_Entering_City_Spartanburg\"."
   ]
  },
  {
   "cell_type": "code",
   "execution_count": 20,
   "id": "453d82ed",
   "metadata": {
    "deletable": false
   },
   "outputs": [],
   "source": [
    "# YOUR CODE HERE\n",
    "for i in from_cities:\n",
    "    model += pl.lpSum(vars[i][j] for j in to_cities if j != i) == 1, f'Sum_of_Leaving_City_{i}'\n",
    "\n",
    "for j in to_cities:\n",
    "    model += pl.lpSum(vars[i][j] for i in from_cities if i != j) == 1, f'Sum_of_Entering_City_{j}'"
   ]
  },
  {
   "cell_type": "code",
   "execution_count": 21,
   "id": "72144373-c766-40f4-bcd9-fbc44b30d142",
   "metadata": {
    "deletable": false,
    "editable": false
   },
   "outputs": [],
   "source": [
    "# This is a test cell\n",
    "# If **NO** message is printed, it means that the tests passed\n",
    "# One basic test to see if your code works\n",
    "assert_equal(len(model.constraints), 10, msg='Your should have 10 constraints')"
   ]
  },
  {
   "cell_type": "markdown",
   "id": "ccac4bdd",
   "metadata": {
    "deletable": false,
    "editable": false
   },
   "source": [
    "<hr>"
   ]
  },
  {
   "cell_type": "code",
   "execution_count": 22,
   "id": "5d80297b",
   "metadata": {
    "deletable": false,
    "editable": false
   },
   "outputs": [
    {
     "name": "stdout",
     "output_type": "stream",
     "text": [
      "Model Status:Optimal\n",
      "Objective = 452.0\n",
      "route_Charlotte_Spartanburg = 1.0\n",
      "route_Columbia_Charlotte = 1.0\n",
      "route_Fayetteville_Greensboro = 1.0\n",
      "route_Greensboro_Fayetteville = 1.0\n",
      "route_Spartanburg_Columbia = 1.0\n"
     ]
    }
   ],
   "source": [
    "# This will solve the model and print out the results\n",
    "model.solve()\n",
    "\n",
    "print(f'Model Status:{pl.LpStatus[model.status]}')\n",
    "print(f'Objective = {pl.value(model.objective)}')\n",
    "\n",
    "# Optimal solution\n",
    "for v in model.variables():\n",
    "    if(v.varValue > 0):\n",
    "        print(v.name, '=', v.varValue)"
   ]
  },
  {
   "cell_type": "markdown",
   "id": "383e666f",
   "metadata": {
    "deletable": false,
    "editable": false
   },
   "source": [
    "# 8. Did You Find a Real Tour?\n",
    "\n",
    "Did you find a real tour? Or were there sub-tours in your solution?\n",
    "\n",
    "Create a variable named `all_done` and set it `True` if you have found an optimal solution with no sub-tours. Otherwise, set the variable to `False`."
   ]
  },
  {
   "cell_type": "code",
   "execution_count": 23,
   "id": "28279b3f",
   "metadata": {
    "deletable": false
   },
   "outputs": [],
   "source": [
    "# YOUR CODE HERE\n",
    "all_done = pl.LpStatus[model.status] == pl.LpStatusOptimal"
   ]
  },
  {
   "cell_type": "markdown",
   "id": "74ae3f39",
   "metadata": {
    "deletable": false,
    "editable": false
   },
   "source": [
    "<hr>"
   ]
  },
  {
   "cell_type": "markdown",
   "id": "3aa65c80",
   "metadata": {
    "deletable": false,
    "editable": false
   },
   "source": [
    "# 9. Eliminate a Sub-Tour\n",
    "\n",
    "You want to make sure that the sub-tour of Fayetteville to Greensboro to Fayetteville does not exist in your solution. To do so, you need to add the constraint that says the variables representing leaving Fayetteville and going Charlotte, Columbia, and Spartanburg plus the variables representing leaving Greensboro and going to Charlotte, Columbia, and Spartanburg must add to at least 1. This will force the elimination of the Fayetteville to Greensboro to Fayetteville sub-tour.\n",
    "\n",
    "Add this sub-tour elimination constraint to `model` naming it \"subtour_elimination_Fayetteville_Greensboro\"."
   ]
  },
  {
   "cell_type": "code",
   "execution_count": 24,
   "id": "bff600b3",
   "metadata": {
    "deletable": false
   },
   "outputs": [],
   "source": [
    "# YOUR CODE HERE\n",
    "model += pl.lpSum(vars['Fayetteville'][j] for j in ['Charlotte', 'Columbia', 'Spartanburg']) + \\\n",
    "         pl.lpSum(vars['Greensboro'][j] for j in ['Charlotte', 'Columbia', 'Spartanburg']) >= 1, \\\n",
    "         'subtour_elimination_Fayetteville_Greensboro'"
   ]
  },
  {
   "cell_type": "code",
   "execution_count": 25,
   "id": "f4c15f5d-bc8e-44f7-a511-83c859087e45",
   "metadata": {
    "deletable": false,
    "editable": false
   },
   "outputs": [],
   "source": [
    "# This is a test cell\n",
    "# If **NO** message is printed, it means that the tests passed\n",
    "# One basic test to see if your code works\n",
    "assert_equal(len(model.constraints), 11, msg='Your model should have 11 constraints now')"
   ]
  },
  {
   "cell_type": "markdown",
   "id": "e7f643d5",
   "metadata": {
    "deletable": false,
    "editable": false
   },
   "source": [
    "<hr>"
   ]
  },
  {
   "cell_type": "code",
   "execution_count": 26,
   "id": "e699f8be",
   "metadata": {
    "deletable": false,
    "editable": false
   },
   "outputs": [
    {
     "name": "stdout",
     "output_type": "stream",
     "text": [
      "Model Status:Optimal\n",
      "Objective = 514.0\n",
      "route_Charlotte_Fayetteville = 1.0\n",
      "route_Columbia_Spartanburg = 1.0\n",
      "route_Fayetteville_Greensboro = 1.0\n",
      "route_Greensboro_Charlotte = 1.0\n",
      "route_Spartanburg_Columbia = 1.0\n"
     ]
    }
   ],
   "source": [
    "# Solve the model again with the additional constraint\n",
    "model.solve()\n",
    "\n",
    "print(f'Model Status:{pl.LpStatus[model.status]}')\n",
    "print(f'Objective = {pl.value(model.objective)}')\n",
    "\n",
    "# Optimal solution\n",
    "for v in model.variables():\n",
    "    if(v.varValue > 0):\n",
    "        print(v.name, '=', v.varValue)"
   ]
  },
  {
   "cell_type": "markdown",
   "id": "d83a047e",
   "metadata": {
    "deletable": false,
    "editable": false
   },
   "source": [
    "<hr>"
   ]
  },
  {
   "cell_type": "markdown",
   "id": "1d0b866e",
   "metadata": {
    "deletable": false,
    "editable": false
   },
   "source": [
    "# 10. Eliminate Another Sub-Tour\n",
    "\n",
    "You want to make sure that the sub-tour of Columbia to Spartanburg to Columbia does not exist in your solution. To do so, you need to add the constraint that says the variables representing leaving Columbia and going Charlotte, Fayetteville, and Greensboro plus the variables representing leaving Spartanburg and going to Charlotte, Fayetteville, and Greensboro must add to at least 1. This will force the elimination of the Columbia to Spartanburg to Columbia sub-tour.\n",
    "\n",
    "Add this sub-tour elimination constraint to `model` naming it \"subtour_elimination_Columbia_Spartanburg\"."
   ]
  },
  {
   "cell_type": "code",
   "execution_count": 27,
   "id": "7a7a60cb",
   "metadata": {
    "deletable": false
   },
   "outputs": [],
   "source": [
    "# YOUR CODE HERE\n",
    "model += pl.lpSum(vars['Columbia'][j] for j in ['Charlotte', 'Fayetteville', 'Greensboro']) + \\\n",
    "         pl.lpSum(vars['Spartanburg'][j] for j in ['Charlotte', 'Fayetteville', 'Greensboro']) >= 1, \\\n",
    "         'subtour_elimination_Columbia_Spartanburg'"
   ]
  },
  {
   "cell_type": "code",
   "execution_count": 28,
   "id": "a1cec07b-aaa6-4d58-b098-c9330fa70eb6",
   "metadata": {
    "deletable": false,
    "editable": false
   },
   "outputs": [],
   "source": [
    "# This is a test cell\n",
    "# If **NO** message is printed, it means that the tests passed\n",
    "# One basic test to see if your code works\n",
    "assert_equal(len(model.constraints), 12, msg='Your model should have 12 constraints now')"
   ]
  },
  {
   "cell_type": "markdown",
   "id": "1aeb18f2",
   "metadata": {
    "deletable": false,
    "editable": false
   },
   "source": [
    "<hr>"
   ]
  },
  {
   "cell_type": "code",
   "execution_count": 29,
   "id": "d9a8ae34",
   "metadata": {
    "deletable": false,
    "editable": false
   },
   "outputs": [
    {
     "name": "stdout",
     "output_type": "stream",
     "text": [
      "Model Status:Optimal\n",
      "Objective = 523.0\n",
      "route_Charlotte_Greensboro = 1.0\n",
      "route_Columbia_Spartanburg = 1.0\n",
      "route_Fayetteville_Columbia = 1.0\n",
      "route_Greensboro_Fayetteville = 1.0\n",
      "route_Spartanburg_Charlotte = 1.0\n"
     ]
    }
   ],
   "source": [
    "# Solve the model again with additional constraint\n",
    "model.solve()\n",
    "\n",
    "print(f'Model Status:{pl.LpStatus[model.status]}')\n",
    "print(f'Objective = {pl.value(model.objective)}')\n",
    "\n",
    "# Optimal solution\n",
    "for v in model.variables():\n",
    "    if(v.varValue > 0):\n",
    "        print(v.name, '=', v.varValue)"
   ]
  },
  {
   "cell_type": "markdown",
   "id": "f7f09d7d",
   "metadata": {
    "deletable": false,
    "editable": false
   },
   "source": [
    "<hr>"
   ]
  },
  {
   "cell_type": "markdown",
   "id": "c09785be",
   "metadata": {
    "deletable": false,
    "editable": false
   },
   "source": [
    "## Additional Resources\n",
    "\n",
    "[Case studies in PuLP's documentation][1]\n",
    "\n",
    "----\n",
    "[1]: https://coin-or.github.io/pulp/CaseStudies/"
   ]
  },
  {
   "cell_type": "markdown",
   "id": "d27b7093",
   "metadata": {
    "deletable": false,
    "editable": false
   },
   "source": [
    "**&copy; 2022 - Present: Matthew D. Dean, Ph.D.   \n",
    "Clinical Associate Professor of Business Analytics at William \\& Mary.**"
   ]
  }
 ],
 "metadata": {
  "kernelspec": {
   "display_name": "Python 3 (ipykernel)",
   "language": "python",
   "name": "python3"
  },
  "language_info": {
   "codemirror_mode": {
    "name": "ipython",
    "version": 3
   },
   "file_extension": ".py",
   "mimetype": "text/x-python",
   "name": "python",
   "nbconvert_exporter": "python",
   "pygments_lexer": "ipython3",
   "version": "3.9.13"
  }
 },
 "nbformat": 4,
 "nbformat_minor": 5
}
